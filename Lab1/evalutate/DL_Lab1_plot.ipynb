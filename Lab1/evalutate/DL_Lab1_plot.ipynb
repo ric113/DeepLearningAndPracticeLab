{
 "cells": [
  {
   "cell_type": "code",
   "execution_count": 60,
   "metadata": {},
   "outputs": [
    {
     "name": "stdout",
     "output_type": "stream",
     "text": [
      "     Unnamed: 0  train Error rate  train Loss  test Error rate  test Loss\n",
      "0             0            70.960    1.855463            66.56   1.748943\n",
      "1             1            61.556    1.631025            62.47   1.702321\n",
      "2             2            51.548    1.404272            48.27   1.333716\n",
      "3             3            43.384    1.201940            51.35   1.573547\n",
      "4             4            38.244    1.063894            40.29   1.225608\n",
      "5             5            34.476    0.966461            43.73   1.392728\n",
      "6             6            31.018    0.877572            30.46   0.890433\n",
      "7             7            28.878    0.819135            32.62   0.962562\n",
      "8             8            26.774    0.765697            31.56   0.907244\n",
      "9             9            25.426    0.727251            32.87   0.995705\n",
      "10           10            24.080    0.689660            30.29   0.952717\n",
      "11           11            22.984    0.661290            33.87   1.085102\n",
      "12           12            21.966    0.637171            25.49   0.761796\n",
      "13           13            21.120    0.607449            31.13   1.015029\n",
      "14           14            20.736    0.592820            24.09   0.730342\n",
      "15           15            19.524    0.565157            22.16   0.687064\n",
      "16           16            19.158    0.551987            27.20   0.887350\n",
      "17           17            18.868    0.543282            22.37   0.674645\n",
      "18           18            18.336    0.532140            28.48   0.875488\n",
      "19           19            17.770    0.515018            26.46   0.807663\n",
      "20           20            17.504    0.505992            18.59   0.553713\n",
      "21           21            17.040    0.494147            21.30   0.668307\n",
      "22           22            16.742    0.487853            23.95   0.748520\n",
      "23           23            16.614    0.480427            21.67   0.669067\n",
      "24           24            16.468    0.471847            21.79   0.689145\n",
      "25           25            15.996    0.458885            20.01   0.604181\n",
      "26           26            15.802    0.457878            21.00   0.623606\n",
      "27           27            15.508    0.449071            17.41   0.521564\n",
      "28           28            15.246    0.439702            21.99   0.726921\n",
      "29           29            15.090    0.437906            16.86   0.507361\n",
      "..          ...               ...         ...              ...        ...\n",
      "134         134             1.836    0.053921             9.95   0.402935\n",
      "135         135             1.734    0.052908             9.95   0.402035\n",
      "136         136             1.604    0.049972             9.79   0.401436\n",
      "137         137             1.730    0.051917             9.92   0.405108\n",
      "138         138             1.706    0.051647             9.93   0.403670\n",
      "139         139             1.648    0.050374             9.73   0.405871\n",
      "140         140             1.706    0.050980            10.00   0.409010\n",
      "141         141             1.650    0.049313             9.94   0.409477\n",
      "142         142             1.714    0.050935             9.94   0.412836\n",
      "143         143             1.690    0.050122             9.95   0.414395\n",
      "144         144             1.584    0.049022             9.96   0.407906\n",
      "145         145             1.666    0.049070             9.99   0.414848\n",
      "146         146             1.486    0.047391            10.07   0.412195\n",
      "147         147             1.584    0.049870             9.97   0.415250\n",
      "148         148             1.696    0.051161             9.82   0.408181\n",
      "149         149             1.632    0.048581             9.89   0.413897\n",
      "150         150             1.658    0.049447             9.96   0.413083\n",
      "151         151             1.586    0.048778             9.95   0.415571\n",
      "152         152             1.536    0.047198             9.93   0.414800\n",
      "153         153             1.498    0.046355            10.01   0.414863\n",
      "154         154             1.562    0.048088            10.00   0.416291\n",
      "155         155             1.602    0.047944             9.96   0.418932\n",
      "156         156             1.600    0.047354            10.01   0.420599\n",
      "157         157             1.498    0.045649            10.00   0.425729\n",
      "158         158             1.446    0.044930            10.03   0.422757\n",
      "159         159             1.510    0.046157            10.08   0.425078\n",
      "160         160             1.524    0.047042            10.07   0.422102\n",
      "161         161             1.516    0.046827             9.97   0.423322\n",
      "162         162             1.426    0.043257            10.14   0.421181\n",
      "163         163             1.562    0.046982             9.93   0.422470\n",
      "\n",
      "[164 rows x 5 columns]\n"
     ]
    }
   ],
   "source": [
    "import pandas as pd\n",
    "import numpy as np\n",
    "import matplotlib.pyplot as plt\n",
    "\n",
    "%matplotlib inline\n",
    "\n",
    "RES20 = pd.read_csv('log_RESNET20.csv')\n",
    "RES56 = pd.read_csv('log_RESNET56.csv')\n",
    "RES110 = pd.read_csv('log_RESNET110.csv')\n",
    "\n",
    "CNN20 = pd.read_csv('log_CNN20.csv')\n",
    "CNN56 = pd.read_csv('log_CNN56.csv')\n",
    "CNN110 = pd.read_csv('log_CNN110.csv')\n",
    "\n",
    "print(CNN20)"
   ]
  },
  {
   "cell_type": "code",
   "execution_count": 54,
   "metadata": {},
   "outputs": [
    {
     "data": {
      "text/plain": [
       "<matplotlib.figure.Figure at 0x11c77e400>"
      ]
     },
     "metadata": {},
     "output_type": "display_data"
    },
    {
     "data": {
      "text/plain": [
       "<matplotlib.figure.Figure at 0x11c626908>"
      ]
     },
     "metadata": {},
     "output_type": "display_data"
    },
    {
     "data": {
      "text/plain": [
       "<matplotlib.figure.Figure at 0x11c853630>"
      ]
     },
     "metadata": {},
     "output_type": "display_data"
    }
   ],
   "source": [
    "mergedDf_20 = RES20.join(CNN20, lsuffix=' RES', rsuffix=' CNN')\n",
    "mergedDf_56 = RES56.join(CNN56, lsuffix=' RES', rsuffix=' CNN')\n",
    "mergedDf_110 = RES110.join(CNN110, lsuffix=' RES', rsuffix=' CNN')\n",
    "\n",
    "lossRateFigure_20 = mergedDf_20[['train Loss RES', 'train Loss CNN']].plot(title=\"20-layer training loss\")\n",
    "lossRateFigure_20.set_ylabel('Loss')\n",
    "lossRateFigure_20.set_xlabel('Epoch')\n",
    "lossRateFigure_20.legend([\"ResNet\", \"Plain CNN\"])\n",
    "plt.savefig(\"20_loss.png\")\n",
    "plt.clf()\n",
    "\n",
    "lossRateFigure_56 = mergedDf_56[['train Loss RES', 'train Loss CNN']].plot(title=\"56-layer training loss\")\n",
    "lossRateFigure_56.set_ylabel('Loss')\n",
    "lossRateFigure_56.set_xlabel('Epoch')\n",
    "lossRateFigure_56.legend([\"ResNet\", \"Plain CNN\"])\n",
    "plt.savefig(\"56_loss.png\")\n",
    "plt.clf()\n",
    "\n",
    "lossRateFigure_110 = mergedDf_110[['train Loss RES', 'train Loss CNN']].plot(title=\"110-layer training loss\")\n",
    "lossRateFigure_110.set_ylabel('Loss')\n",
    "lossRateFigure_110.set_xlabel('Epoch')\n",
    "lossRateFigure_110.legend([\"ResNet\", \"Plain CNN\"])\n",
    "plt.savefig(\"110_loss.png\")\n",
    "plt.clf()"
   ]
  },
  {
   "cell_type": "code",
   "execution_count": 53,
   "metadata": {},
   "outputs": [
    {
     "data": {
      "text/plain": [
       "<matplotlib.figure.Figure at 0x11ada17b8>"
      ]
     },
     "metadata": {},
     "output_type": "display_data"
    },
    {
     "data": {
      "text/plain": [
       "<matplotlib.figure.Figure at 0x11c4b5470>"
      ]
     },
     "metadata": {},
     "output_type": "display_data"
    },
    {
     "data": {
      "text/plain": [
       "<matplotlib.figure.Figure at 0x11c62c908>"
      ]
     },
     "metadata": {},
     "output_type": "display_data"
    }
   ],
   "source": [
    "testErrorFigure_20 = mergedDf_20[['test Error rate RES', 'test Error rate CNN']].plot(title=\"20-layer testing error rate\")\n",
    "testErrorFigure_20.set_ylabel('Testing error rate(%)')\n",
    "testErrorFigure_20.set_xlabel('Epoch')\n",
    "testErrorFigure_20.legend([\"ResNet\", \"Plain CNN\"])\n",
    "plt.savefig(\"20_errorRate.png\")\n",
    "plt.clf()\n",
    "\n",
    "testErrorFigure_56 = mergedDf_56[['test Error rate RES', 'test Error rate CNN']].plot(title=\"56-layer testing error rate\")\n",
    "testErrorFigure_56.set_ylabel('Testing error rate(%)')\n",
    "testErrorFigure_56.set_xlabel('Epoch')\n",
    "testErrorFigure_56.legend([\"ResNet\", \"Plain CNN\"])\n",
    "plt.savefig(\"56_errorRate.png\")\n",
    "plt.clf()\n",
    "\n",
    "testErrorFigure_110 = mergedDf_110[['test Error rate RES', 'test Error rate CNN']].plot(title=\"110-layer testing error rate\")\n",
    "testErrorFigure_110.set_ylabel('Testing error rate(%)')\n",
    "testErrorFigure_110.set_xlabel('Epoch')\n",
    "testErrorFigure_110.legend([\"ResNet\", \"Plain CNN\"])\n",
    "plt.savefig(\"110_errorRate.png\")\n",
    "plt.clf()\n"
   ]
  },
  {
   "cell_type": "code",
   "execution_count": null,
   "metadata": {
    "collapsed": true
   },
   "outputs": [],
   "source": []
  }
 ],
 "metadata": {
  "kernelspec": {
   "display_name": "Python 3",
   "language": "python",
   "name": "python3"
  },
  "language_info": {
   "codemirror_mode": {
    "name": "ipython",
    "version": 3
   },
   "file_extension": ".py",
   "mimetype": "text/x-python",
   "name": "python",
   "nbconvert_exporter": "python",
   "pygments_lexer": "ipython3",
   "version": "3.6.4"
  }
 },
 "nbformat": 4,
 "nbformat_minor": 2
}
