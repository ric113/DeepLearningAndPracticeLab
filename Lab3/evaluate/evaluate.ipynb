{
 "cells": [
  {
   "cell_type": "code",
   "execution_count": 84,
   "metadata": {},
   "outputs": [
    {
     "data": {
      "text/plain": [
       "<matplotlib.figure.Figure at 0x108c2bac8>"
      ]
     },
     "metadata": {},
     "output_type": "display_data"
    }
   ],
   "source": [
    "import pickle\n",
    "import matplotlib.pyplot as plt\n",
    "from collections import OrderedDict\n",
    "%matplotlib inline\n",
    "\n",
    "with open('./data/histories_st.pkl', 'rb') as f:\n",
    "    data = pickle.load(f)\n",
    "    \n",
    "\n",
    "\n",
    "new_dict = OrderedDict((k, v) for k, v in sorted(data['loss_history'].items(), key=lambda x: x[0]))\n",
    "#print(new_dict)\n",
    "\n",
    "a = list(new_dict.keys())\n",
    "b = list(new_dict.values())\n",
    "plt.plot(a, b)\n",
    "plt.title(\"Training loss curve\")\n",
    "plt.ylabel('Loss')\n",
    "plt.xlabel('Iteration')\n",
    "minloss = min(b)\n",
    "minloss = '%.5f'%(minloss)\n",
    "plt.text(30000,5,'Min Loss: ' + str(minloss),fontdict={'size': 14, 'color': 'r'})\n",
    "plt.savefig('st_trainLoss.png')\n",
    "#plt.show()\n",
    "plt.clf()\n"
   ]
  },
  {
   "cell_type": "code",
   "execution_count": 85,
   "metadata": {},
   "outputs": [
    {
     "data": {
      "text/plain": [
       "<matplotlib.figure.Figure at 0x112aea9b0>"
      ]
     },
     "metadata": {},
     "output_type": "display_data"
    }
   ],
   "source": [
    "with open('./data/histories_td.pkl', 'rb') as f:\n",
    "    data = pickle.load(f)\n",
    "\n",
    "new_dict = OrderedDict((k, v) for k, v in sorted(data['loss_history'].items(), key=lambda x: x[0]))\n",
    "a = list(new_dict.keys())\n",
    "b = list(new_dict.values())\n",
    "plt.plot(a, b)\n",
    "plt.title(\"Training loss curve\")\n",
    "plt.ylabel('Loss')\n",
    "plt.xlabel('Iteration')\n",
    "minloss = min(b)\n",
    "minloss = '%.5f'%(minloss)\n",
    "plt.text(30000,5,'Min Loss: ' + str(minloss),fontdict={'size': 14, 'color': 'r'})\n",
    "plt.savefig('td_trainLoss.png')\n",
    "#plt.show()\n",
    "plt.clf()"
   ]
  },
  {
   "cell_type": "code",
   "execution_count": null,
   "metadata": {},
   "outputs": [],
   "source": []
  },
  {
   "cell_type": "code",
   "execution_count": null,
   "metadata": {
    "collapsed": true
   },
   "outputs": [],
   "source": []
  }
 ],
 "metadata": {
  "kernelspec": {
   "display_name": "Python 3",
   "language": "python",
   "name": "python3"
  },
  "language_info": {
   "codemirror_mode": {
    "name": "ipython",
    "version": 3
   },
   "file_extension": ".py",
   "mimetype": "text/x-python",
   "name": "python",
   "nbconvert_exporter": "python",
   "pygments_lexer": "ipython3",
   "version": "3.6.4"
  }
 },
 "nbformat": 4,
 "nbformat_minor": 2
}
